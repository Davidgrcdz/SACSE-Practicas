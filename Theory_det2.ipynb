{
 "cells": [
  {
   "cell_type": "markdown",
   "id": "pressing-munich",
   "metadata": {},
   "source": [
    "<h1 style=\"text-align: center;\">Simulación y aplicaciones en ciencias sociales y experimentales\n",
    "</h3>\n",
    "<h3 style=\"text-align: center;\"> Tema 2.2 Modelos deterministas de segundo orden </h3>\n",
    "<h3 style=\"text-align: center;\"> Otro poco de teoría </h3>"
   ]
  },
  {
   "cell_type": "markdown",
   "id": "da7353a3",
   "metadata": {},
   "source": [
    "### Sistemas planos"
   ]
  },
  {
   "cell_type": "markdown",
   "id": "persistent-carbon",
   "metadata": {},
   "source": [
    "En este epígrafe, planteamos y damos unos apuntes sobre el comportamiento de sistemas no lineales de orden dos, también llamados sistemas planos. En particular, estudiaremos el caso ***autónomo*** (la variable tiempo no aparece explícita en las ecuaciones), que tiene la forma: \n",
    "\n",
    "$$\\begin{array}{c}\n",
    "   \\displaystyle{\\dot{x_1}} = f_1(x_1,x_2), \\\\ \n",
    "   \\displaystyle{\\dot{x_2}} = f_2(x_1,x_2),\n",
    "\\end{array} $$\n",
    "\n",
    "donde $x=(x_1,x_2)$ son las dos variables de estado, $f_1$, $f_2$ son funciones no lineales. Nos centraremos en la solución local del sistema en torno a los puntos de equilibrio. \n",
    "\n",
    "Para más detalles sobre ecuaciones diferenciales ordinarias, pueden consultar la bibliografía siguiente: \n",
    "\n",
    "[Hirsh, M., Smale, S. and Devaney, R.L. (2013)](https://eclass.uoa.gr/modules/document/file.php/MATH626/Morris%20W.%20Hirsch%2C%20Stephen%20Smale%20and%20Robert%20L.%20Devaney%20%28Auth.%29%20-%20Differential%20Equations%2C%20Dynamical%20Systems%2C%20and%20an%20Introduction%20to%20Chaos-Academic%20Press%20%282012%29.pdf) \"Differential equations, dynamical systems, and an introduction to chaos\" Academic Press\n",
    "\n",
    "[Lynch, S. (2018)](https://link.springer.com/book/10.1007/978-3-319-78145-7) \"Dynamical Systems with Applications using Python\" Birkhäuser.\n",
    "\n",
    "[Spong, M.W. (2023)](https://www.perlego.com/book/3815108/introduction-to-modeling-and-simulation-a-systems-approach-pdf) \"Introduction to Modeling and Simulation: A Systems Approach\" Wiley.\n",
    "\n",
    "[Zill, D.G. (2009)](https://cutbertblog.wordpress.com/wp-content/uploads/2019/01/zill-d.g.-ecuaciones-diferenciales-con-aplicaciones-de-modelado-cengage-learning-2009.pdf) \"Ecuaciones diferenciales con aplicaciones de modelado\" Cengage Learning.\n"
   ]
  },
  {
   "cell_type": "markdown",
   "id": "chronic-jonathan",
   "metadata": {},
   "source": [
    "### Puntos de equilibrio"
   ]
  },
  {
   "cell_type": "markdown",
   "id": "covered-avenue",
   "metadata": {},
   "source": [
    "Una ***trayectoria u órbita*** del sistema es una función del tiempo $t$ sobre dos variables $(x_1(t),x_2(t))$ que cumple las dos ecuaciones diferenciales arriba señaladas. El comportamiento del sistema es el análisis de la estructura de las órbitas del sistema.  \n",
    "\n",
    "Un ***punto de equilibrio*** es una trayectoria constante del sistema. Se calculan resolviendo el sistema de ecuaciones ordinarias que resulta de sustituir por cero las derivadas de las variables. O sea, haciendo $dx_1/dt=0$ y $dx_2/dt=0$, resultan los puntos de equilibrio $(x_1^i,x_2^i)$,\n",
    "\n",
    "$$\\left. \\begin{array}{l}\n",
    "   0 = f_1(x_1,x_2) \\\\\n",
    "   0 = f_2(x_1,x_2)\n",
    "\\end{array} \\right\\} \\Rightarrow (x_1^i,x_2^i), i \\in \\mathbb{R} $$\n",
    "\n",
    "El comportamiento del sistema en torno a los puntos de equilibrio es básica para determinar la dinámica general. "
   ]
  },
  {
   "cell_type": "markdown",
   "id": "f7b24ca1",
   "metadata": {},
   "source": [
    "### Sistemas planos lineales "
   ]
  },
  {
   "cell_type": "markdown",
   "id": "84125412",
   "metadata": {},
   "source": [
    "Un sistema es lineal si las dos funciones $f_1$ y $f_2$ son lineales. En ese caso, el sistema se puede escribir de esta manera: \n",
    "\n",
    "$$\\begin{array}{c}\n",
    "   \\displaystyle{\\dot{x_1}} = ax_1+bx_2, \\\\ \n",
    "   \\displaystyle{\\dot{x_2}} = cx_1+dx_2.\n",
    "\\end{array} $$\n",
    "\n",
    "Definiendo $A=\\displaystyle{\\left[\\begin{array}{cc}  a & b \\\\ c & d \\end{array}\\right]}$ y $x=(x_1,x_2) \\in \\mathbb{R}^2$, el sistema se puede reescribir como. \n",
    "\n",
    "$$ \\dot{x} = A x.$$\n",
    "En este caso, $(x_1^*,x_2^*)=(0,0)$ es un punto de equilibrio del sistema. A partir del cálculo de los valores propios de $A$ se pueden caracterizar las soluciones del sistema.\n",
    "\n",
    "Supóngase que $\\lambda_1$ y $\\lambda_2$ son los valores propios de $A$. Las posibles trayectorias del sistema son las siguientes: \n",
    "\n",
    "**a)** Ambos valores propios son reales puros, no tiene parte imaginaria y son diferentes ($\\lambda_1 \\neq \\lambda_2$). Entonces las solución general del sistema es: \n",
    "\n",
    "$$(x_1(t),x_2(t))= c_1 e^{\\lambda_1 t}{\\bf e_1} +c_2 e^{\\lambda_2 t}{\\bf e_2},$$\n",
    "\n",
    "con ${\\bf e_1}$ y ${\\bf e_1}$ son los vectores propios de dimensión dos de la matriz $A$ correspondientes a los dos valores propios. Los parámetos $c_1$ y $c_2$ están determinados por las condiciones iniciales del sistema $x_1(0)=x_1^0$, $x_2(0)=x_2^0$. \n",
    "\n",
    "Entonces, el comportamiento asintótico d ($t\\rightarrow \\infty$) del sistema puede ser el siguiente: \n",
    "\n",
    "* Si $\\lambda_1>0$, $\\lambda_2>0$, las trayectorias que parten de puntos cercanos al punto de equilibrio $(0,0)$ se alejan de él. Si dice que el punto de equilibrio es ***inestable***. \n",
    "* Si $\\lambda_1<0$, $\\lambda_2<0$, las trayectorias que parten de puntos cercanos al punto de equilibrio $(0,0)$ se aproximan a él. Se dice que el punto de equilibrio es ***asintóticamente estable***.\n",
    "* Si $\\lambda_1<0$, $\\lambda_2>0$, solo existen una trayectoria que converja al punto de equilibrio, el resto de las trayectorias se alejan de él. Si dice que el punto de equilibrio es un ***punto de silla***\n",
    "\n",
    "En caso de que alguno de los valores propios sea nulo, las trayectorias divergen o convergen al punto de equilibrio según sea el signo del otro valor propio. La Figura 1 muestra las trayectorias posibles en el diagrama de fases según los distintos signos de los valores propios. \n",
    "\n",
    "**b)** Ambos valores propios tienen parte imaginaria, o sea, $\\lambda_1=\\alpha + \\beta i$, $\\lambda_2=\\alpha - \\beta i$, con $\\alpha$, $\\beta \\in \\mathbb{R}$. En este caso la solución del sistema es la siguiente: \n",
    "\n",
    "$$\\begin{array}{c}\n",
    "   x_1(t)= c_1 e^{\\alpha t}cos(\\beta t) + c_2 e^{\\alpha t}sin (\\beta t), \\\\ \n",
    "   x_2(t)= -c_1 e^{\\alpha t}sin(\\beta t) + c_2 e^{\\alpha t}cos (\\beta t),\n",
    "\\end{array}$$\n",
    "\n",
    "con $c_1$ y $c_2$ determinados por las condiciones iniciales del sistema $x_1(0)=x_1^0$, $x_2(0)=x_2^0$. \n",
    "\n",
    "Se verifican entonces las mismas condiciones sobre la parte real de los valores propios para que el punto de equilibrio sea asintóticamente estable o inestable. Las trayectorias en este caso muestran un comportamiento oscilatorio que se acerca o aleja el punto de equilibrio (ver Figura 1). \n",
    "\n",
    "Añadimos un nuevo posible carácter del punto de equilibrio: \n",
    "\n",
    "* Si $Re(\\lambda_1)=Re(\\lambda_2)=0$, las trayectorias que parten de puntos cercanos al punto de equilibrio giran en torno a él en trayectorias circulares fijas. Se dice que el punto de equilibrio es ***estable*** \n",
    "\n",
    "Existen otras posibilidades, como que los valores propios sean iguales. Estas y las posibilidades anteriores están descritas en la Figura 1. \n",
    "\n"
   ]
  },
  {
   "cell_type": "markdown",
   "id": "fc511820",
   "metadata": {},
   "source": [
    "<img src=\"eigenvalues.jpg\" \n",
    "     align=\"center\" \n",
    "     width=\"500\" />\n",
    "      <center>Figure 1: Trayectorias posibles en torno a punto punto de equilibrio en un sistema lineal plano.</center>"
   ]
  },
  {
   "cell_type": "markdown",
   "id": "e7e68b75",
   "metadata": {},
   "source": [
    "### Linealización de sistemas planos no lineales "
   ]
  },
  {
   "cell_type": "markdown",
   "id": "3b0fa585",
   "metadata": {},
   "source": [
    "Asumimos ahora que las funciones $f_1$ y $f_2$ del sistema son no lineales. Sea $(x_1^*,x_2^*)$ un punto de equilibrio del sistema. \n",
    "\n",
    "La solución general de un sistema no lineal no es fácil de encontrar. Sin embargo, podemos averiguar fácilmente cómo es el comportamiento del sistema en un entorno de los puntos de equilibrio. Para ello, en primer lugar, linealizamos el sistema tomando los dos primeros términos de la expansión de Taylor de la expresión de las derivadas. Dicho de otro modo, tomamos el desarrollo de Taylor de orden 1 de $f_1$ y $f_2$ en torno al punto de equilibrio $(x_1^*,x_2^*)$,\n",
    "\n",
    "$$\\begin{array}{c}\n",
    "   \\displaystyle{\\dot{x_1}} \\simeq f_1(x_1^*,x_2^*) + \\frac{\\partial f_1}{\\partial x_1}(x_1^*,x_2^*) (x_1-x_1^*)+\\frac{\\partial f_1}{\\partial x_2}(x_1^*,x_2^*) (x_2-x_2^*), \\\\ \n",
    "   \\displaystyle{\\dot{x_2}} \\simeq f_2(x_1^*,x_2^*) + \\frac{\\partial f_2}{\\partial x_1}(x_1^*,x_2^*) (x_1-x_1^*)+\\frac{\\partial f_2}{\\partial x_2}(x_1^*,x_2^*) (x_2-x_2^*).\n",
    "\\end{array} $$\n",
    "\n",
    "En forma matricial, queda\n",
    "\n",
    "$$\n",
    "   \\displaystyle{\\left[ \\begin{array}{c} \\dot{x_1} \\\\ \\dot{x_2}\\end{array} \\right]} \\simeq \\left[ \\begin{array}{cc}\\frac{\\partial f_1}{\\partial x_1}(x_1^*,x_2^*) & \\frac{\\partial f_1}{\\partial x_2} (x_1^*,x_2^*)\\\\ \n",
    "   \\frac{\\partial f_2}{\\partial x_1}(x_1^*,x_2^*) & \\frac{\\partial f_2}{\\partial x_2}(x_1^*,x_2^*)\\end{array}\\right] \\left[ \\begin{array}{c} x_1-x_1^* \\\\ x_2-x_2^*\\end{array} \\right]\n",
    "    $$\n",
    "\n",
    "A la matrix de derivadas se le llama Jacobiana, y se suele notar por $J$.\n",
    "\n",
    "Es posible determinar el comportamiento del sistema en torno al punto de equilibrio $(x_1^*,x_2^*)$ a partir de los valores propios de la matriz Jacobiana $J$. Como la matriz es de orden 2, resultarán dos valores propios $\\lambda_1$ y $\\lambda_2$. El comportamiento del sistema en un entorno cercano al punto de equilibrio sigue los mismos patrones que el apartado anterior. "
   ]
  },
  {
   "cell_type": "code",
   "execution_count": null,
   "id": "8165392e",
   "metadata": {},
   "outputs": [],
   "source": []
  },
  {
   "cell_type": "code",
   "execution_count": null,
   "id": "a621e474",
   "metadata": {},
   "outputs": [],
   "source": []
  }
 ],
 "metadata": {
  "celltoolbar": "Tags",
  "kernelspec": {
   "display_name": "Python 3 (ipykernel)",
   "language": "python",
   "name": "python3"
  },
  "language_info": {
   "codemirror_mode": {
    "name": "ipython",
    "version": 3
   },
   "file_extension": ".py",
   "mimetype": "text/x-python",
   "name": "python",
   "nbconvert_exporter": "python",
   "pygments_lexer": "ipython3",
   "version": "3.10.9"
  }
 },
 "nbformat": 4,
 "nbformat_minor": 5
}

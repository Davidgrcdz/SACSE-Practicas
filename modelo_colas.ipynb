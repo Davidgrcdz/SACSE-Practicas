{
 "cells": [
  {
   "cell_type": "markdown",
   "id": "pressing-munich",
   "metadata": {},
   "source": [
    "<h1 style=\"text-align: center;\">Simulación y aplicaciones en ciencias sociales y experimentales\n",
    "</h3>\n",
    "<h3 style=\"text-align: center;\"> Tema 3. Modelos aleatorios </h3>\n",
    "<h3 style=\"text-align: center;\"> Modelo de Colas</h3>"
   ]
  },
  {
   "cell_type": "markdown",
   "id": "persistent-carbon",
   "metadata": {},
   "source": [
    "En este epígrafe introduciremos unos sistemas ampliamente modelados y estudiados, tanto de forma analítica como simulada. Estos son los modelos de colas, o el proceso de llegada a un cierto servicio que no puede ser satisfecho instantáneamente y por tanto provoca espera. Como ejemplos de colas tenemos las esperas diaria a cualquier servicio (bancos, supemercados, etc.), los sistemas de procesados informáticos, etc. A modo de ejemplo gráfico, la Figura 1 representa una cola simple con un solo servidor y una sola cola de llegada.  "
   ]
  },
  {
   "cell_type": "markdown",
   "id": "0d076ae5",
   "metadata": {},
   "source": [
    "<img src=\"cola.jpg\" \n",
    "     align=\"center\" \n",
    "     width=\"500\" />"
   ]
  },
  {
   "cell_type": "markdown",
   "id": "b7c47b7f",
   "metadata": {},
   "source": [
    "## Supuestos \n",
    "\n",
    "En un modelo general de colas, asumimos la existencia de un servidor o servidores y unos clientes que acuden a ese servicio. Por simplicidad suponemos la existencia de un único servidor. Tomamos los siguientes supuestos:\n",
    "\n",
    "- Si el servidor está libre, un nuevo clientes acude directamente al servicio. \n",
    "- Si el servidor no está libre, el cliente se pone en cola esperando que el servidor se quede libre. \n",
    "- Una vez el servidor está libre, se elige al cliente de acuerdo a una disciplina de cola. Por defecto tomamos la disciplina FIFO (first in first out). \n",
    "- Los clientes permanecen en cola y en el servidor hasta que el servicio se completa. \n",
    "\n",
    "Usualmente, los problemas de colas asumen aleatoriedad tanto en el número de llegadas de clientes al servicio como en el tiempo de servicio para cada cliente. Por tanto, como todo modelo estocástico, dadas unas determinadas distribuciones de probabilidad de las llegadas y servicios, estamos interesados en conocer las distribuciones de probabilidad de determinadas respuestas del sistema como es el número de clientes en cola o el tiempo de espera en cola de los clientes. Resolver estas cuestiones será el objetivo de este epígrafe. \n",
    "\n",
    "En general, las colas se escriben con una determinada notación, llamada **notación de Kendall**, que se describe por unas iniciales separadas por barras, tales como $A/B/C/X/Y/Z$, donde \n",
    "\n",
    "- $A$ indica la distribución del tiempo entre llegadas.\n",
    "- $B$ indica la distribución del tiempo entre servicios.\n",
    "- $C$ indica el número de servidores. \n",
    "- $X$ indica la capacidad del sistema, o longitud máxima de la cola (considerada infinita si no se indica). \n",
    "- $Y$ indica la tamaño de la población de clientes (considerada infinita si no se indica).\n",
    "- $Z$ indica la disciplina de cola (considerada de tipo FIFO si no se indica otra).\n",
    "\n",
    "Seguidamente detallamos el tipo de cola más simple, el $M/M/1$"
   ]
  },
  {
   "cell_type": "markdown",
   "id": "distant-expense",
   "metadata": {},
   "source": [
    "## El modelo M/M/1\n",
    "\n",
    "Este tipo de cola asume un servidor y un proceso markoviano ($M$) tanto para la distribución de las llegadas como de las salidas. En el práctica, esto quiere decir que el número de clientes que llegan en un intervalo determinado de tiempo depende exclusivamente de la longitud del intervalo, y no del estado pasado del sistema. Este supuesto es realista para múltiples sistemas reales de colas. \n",
    "\n",
    "Sea $N(t)$ una variable aleatoria que indica el número clientes en el tiempo $t$ en la cola, con $N(t) \\in \\{0,1,2,...\\}$. Un modelo $M/M/1$ también se le llama **procesos de nacimiento y muerte** ya que solo se permiten que los estados de la variable $N(t)$ tengan saltos de una unidad. O sea, el estado sucesivo a $N(t)=i$ debe de ser $i-1$ o $i+1$, $\\forall i \\in \\mathbb{N}$. \n",
    "\n",
    "### Ecuaciones de estado\n",
    "\n",
    "Supongamos entonces que la llegada de clientes medio por cada unidad de tiempo es $\\lambda$ y que el número medio de servicios por unidad de tiempo es $\\mu$. Por tanto, la probabilidad de que en el intervalo de tiempo $[t,t+dt]$ se produzca una llegada y una salida es $\\lambda dt + o(dt)$ y $\\mu dt + o(dt)$, respectivamente. El término $o(dt)$ indica un infinitésima de orden mayor que uno, o sea, $lim_{dt\\rightarrow 0} o(dt)/dt =0$. En estas condiciones, estamos entonces interesados en conocer la evolución de la distribución de probabilidad $p_n(t) = P[N(t)=n]$. Esta viene determinada por los posibles estados previos al estado $t+dt$: \n",
    "\n",
    "$$p_n(t+dt) = p_n(t)(1-\\lambda dt + o(dt))(1-\\mu dt + o(dt)) + p_{n-1}(t)(\\lambda dt + o(dt))+ p_{n+1}(t)(\\mu dt + o(dt)).$$\n",
    "\n",
    "La ecuación relaciona el estado en el tiempo $t+dt$ con respecto a todos los posibles estados del sistema en el tiempo $t$. El primer término de la derecha indica que en el tiempo $t$ el sistema se encontraba en el estado $n$ y no se produjeron llegadas ni salidas, el segundo término indica que el sistema se encontraba en el estado $n-1$ y se produjo una llegada, y el último término indica que el sistema se encontraba en el estado $n+1$ y se produjo un salida. Reordenando las ecuaciones y teniendo en cuenta que la suma de términos $o(dt)$ es otro término $o(dt)$, tenemos que , \n",
    "\n",
    "$$p_n(t+dt) = p_n(t)+ \\lambda p_{n-1}(t)dt-(\\lambda + \\mu)p_n(t)dt + \\mu p_{n+1}(t)dt + o(dt).$$\n",
    "\n",
    "Reordenando y dividiendo por $dt$ nos queda,\n",
    "\n",
    "$$\\frac{p_n(t+dt) - p_n(t)}{dt}= \\lambda p_{n-1}(t)-(\\lambda + \\mu)p_n(t) + \\mu p_{n+1}(t) + \\frac{o(dt)}{dt}.$$\n",
    "\n",
    "Tomando límites para $dt \\rightarrow 0$, resulta la siguiente ecuación diferencial de los estados del sistema: \n",
    "\n",
    "$$\\begin{array}{lll} \\dot{p}_{n}(t) &=& \\lambda p_{n-1}(t)-(\\lambda + \\mu)p_n(t) + \\mu p_{n+1}(t),\\hbox{ con }n>0,\\\\\n",
    "\\dot{p}_{0}(t) &=& -\\lambda p_0(t) + \\mu p_1(t). \\end{array}$$\n",
    "\n",
    "Estas ecuaciones determinan el estado del sistema en cada instante del tiempo. \n",
    "\n",
    "### Estado estacionario\n",
    "\n",
    "El estado estacionario es aquel en el cual los estados del sistema no dependen del tiempo. En ese caso se nota $p_n(t) = p_n$, indicando que no depende del tiempo. Si asumimos la existencia de un estado estacionario, entonces $\\dot{p}_{n}(t)=0$, por lo que dadas las ecuaciones de estado, tenemos que:\n",
    "\n",
    "$$\\begin{array}{lll} 0 &=& \\lambda p_{n-1}-(\\lambda + \\mu)p_n + \\mu p_{n+1},\\hbox{ con }n>0,\\\\\n",
    "0 &=& -\\lambda p_0 + \\mu p_1 \\Longrightarrow p_1=\\frac{\\lambda}{\\mu} p_0. \\end{array}$$\n",
    "\n",
    "Esta es una ecuación en diferencias que se puede resolver recursivamente. El resultado final es el siguiente: \n",
    "\n",
    "$$ p_n = \\left( \\frac{\\lambda}{\\mu} \\right)^n p_0. $$\n",
    "\n",
    "Solo nos quedaría calcular $p_0$. Por otro lado, notamos $\\rho = \\lambda / \\mu$, que se llama constante de utilización del sistema o intensidad de tráfico. Indica la fracción de recursos utilizados por los clientes. Intuitivamente, para que el sistema sea estacionario (la cola no sea infinita a largo plazo), $\\rho <1$. Verificamos este hecho en el cálculo de $p_0$. Este se deduce de la condición de que los estados siguen una distribución de probabilidad: \n",
    "\n",
    "$$1= \\sum_{n=0}^\\infty p_n = \\left( 1 + \\sum_{n=1}^\\infty \\rho^n\\right) p_0,$$\n",
    "\n",
    "por lo que \n",
    "\n",
    "$$p_0= \\frac{1}{ 1 + \\sum_{n=1}^\\infty\\rho^n}.$$\n",
    "\n",
    "La serie converge converge cuando $\\rho<1$ y la suma es $\\sum_{n=1}^\\infty\\rho^n=\\frac{\\rho}{1-\\rho}$. Por tanto, \n",
    "\n",
    "$$p_0= \\frac{1}{ 1 + \\sum_{n=1}^\\infty\\rho^n}= \\frac{1}{ 1 + \\frac{\\rho}{1-\\rho}}=1-\\rho.$$\n",
    "\n",
    "Entonces, sustituyendo en la ecuación de arriba, la **distribución de probabilidad del número de clientes en el sistema (N)** en el estado estacionario es: \n",
    "\n",
    "$$ p_n = (1-\\rho)\\rho^n, $$\n",
    "\n",
    "que es una distribución geométrica de parámetro $1-\\rho$, multiplicada por el parámetro $\\rho$. \n"
   ]
  },
  {
   "cell_type": "markdown",
   "id": "62afd20a",
   "metadata": {},
   "source": [
    "### Medidas de funcionamiento de la cola \n",
    "\n",
    "A partir de la distribución de probabilidad estacionaria del número de clientes en el sistema se pueden calcular diversos  indicadores del sistema. Por ejemplo, el **número medio de clientes en el sistema (L)**, que es la media de una distribución geométrica:\n",
    "\n",
    "$$L= E(N)= \\sum_{n=0}^\\infty n p_n= \\frac{\\rho}{1-\\rho}= \\frac{\\lambda}{\\mu-\\lambda}.$$\n",
    "\n",
    "También podemos saber el **número medio de clientes en cola o longitud de la cola (L_q)**, que es:\n",
    "\n",
    "$$ L_q= E[N_q] = \\sum_{n=1}^\\infty (n-1) p_n = \\sum_{n=1}^\\infty n p_n - \\sum_{n=1}^\\infty p_n = L- \\rho = \\frac{\\rho}{1-\\rho}\n",
    "- \\rho = \\frac{\\rho^2}{1-\\rho}.$$\n",
    "\n",
    "También es interesante calcular la distribución del tiempo de los clientes en el sistema ($W$) y en cola ($W_q$). Para ello aplicamos las relaciones $L=\\lambda W$ y $L_q=\\lambda W_q$, conocidas como fórmulas de Little. Dadas estas fórmula, el **tiempo medio de los clientes en el sistema** y **tiempo medio de los clientes en cola** es:\n",
    "\n",
    "$$\\begin{array}{lll} E[W] &=& \\frac{1}{\\lambda} E[L] = \\frac{1}{\\mu-\\lambda},\\\\\n",
    "E[W_q] &=& \\frac{1}{\\lambda} E[L_q] = \\frac{\\rho}{\\mu-\\lambda}. \\end{array}$$"
   ]
  },
  {
   "cell_type": "markdown",
   "id": "67751f54",
   "metadata": {},
   "source": [
    "## Simulación de un modelo de colas\n",
    "\n",
    "En la simulación de un modelos de colas como el arriba indicado podemos seguir los siguientes pasos: \n",
    "\n",
    "1) Suponer inicialmente ningún cliente en el sistema ($N=0$) y asumir un cronómetro de tiempo en cero. \n",
    "2) Simular el tiempo que tardarán en llegar los clientes sucesivos. En el caso de un proceso markoviano M/M/1, hay que tener en cuenta que si el número de clientes que llegan por unidad de tiempo es $\\lambda$ sigue una ley de $Poisson(\\lambda)$, por lo que el tiempo de llegada del primer cliente sigue una exponencial $Exp(1/\\lambda)$. El mismo razonamiento se sigue para las salidas.\n",
    "3) Agregar clientes en cola y sacarlos según los tiempos calculados en el proceso anterior.  "
   ]
  },
  {
   "cell_type": "markdown",
   "id": "d2b16d76",
   "metadata": {},
   "source": [
    "### Ejercicio 1 \n",
    "\n",
    "Un servidor con un único procesador ejecuta programas con tiempo CPU siguiendo una distribución exponencial de 3 minutos. Se sigue un protocolo de atención de los programas FIFO. Las llegadas de los programas a la estación sigue un proceso de Poisson de 15 programas cada hora de media. \n",
    "\n",
    "1) Calcular el tiempo medio que transcurre desde que se envía un programa al servidor hasta que termina su ejecución. \n",
    "2) Calcular el número medio de programas en espera de ejecutarse. \n",
    "3) Cacular la probabilidad de que haya más de dos programas en espera de ejecución. \n",
    "4) Calcular la probabilidad de que el programa esté en espera más de 10 minutos. "
   ]
  },
  {
   "cell_type": "markdown",
   "id": "fb14088d",
   "metadata": {},
   "source": [
    "## Referencias\n",
    "\n",
    "- Cao Abad, R. (2002). Introducción a la simulación y a la teoría de colas. A Coruña: Netbiblo.\n",
    "- Stewart, W. J. (2009). Probability, Markov Chains, Queues, and Simulation. Princenton University Press. \n",
    "\n"
   ]
  },
  {
   "cell_type": "code",
   "execution_count": null,
   "id": "2648e321",
   "metadata": {},
   "outputs": [],
   "source": []
  }
 ],
 "metadata": {
  "celltoolbar": "Tags",
  "kernelspec": {
   "display_name": "Python 3 (ipykernel)",
   "language": "python",
   "name": "python3"
  },
  "language_info": {
   "codemirror_mode": {
    "name": "ipython",
    "version": 3
   },
   "file_extension": ".py",
   "mimetype": "text/x-python",
   "name": "python",
   "nbconvert_exporter": "python",
   "pygments_lexer": "ipython3",
   "version": "3.10.9"
  }
 },
 "nbformat": 4,
 "nbformat_minor": 5
}

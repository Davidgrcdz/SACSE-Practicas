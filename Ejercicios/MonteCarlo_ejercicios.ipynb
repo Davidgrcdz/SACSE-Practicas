{
 "cells": [
  {
   "cell_type": "markdown",
   "id": "pressing-munich",
   "metadata": {},
   "source": [
    "<h1 style=\"text-align: center;\">Simulación y aplicaciones en ciencias sociales y experimentales\n",
    "</h3>\n",
    "<h3 style=\"text-align: center;\"> Tema 3.1 Simulaciones de Montecarlo </h3>\n",
    "<h3 style=\"text-align: center;\"> Ejercicios</h3>"
   ]
  },
  {
   "cell_type": "markdown",
   "id": "chronic-jonathan",
   "metadata": {},
   "source": [
    "Las **simulaciones de Montecarlo** consisten en el muestro repetitivo de las variables de entrada de un  modelo y la observación del conjunto de resultados obtenidos con esos muestreos. "
   ]
  },
  {
   "cell_type": "markdown",
   "id": "ordinary-scottish",
   "metadata": {},
   "source": [
    "En general, en un proceso de simulación de Montecarlo, se siguen los siguientes pasos: \n",
    "\n",
    "- *Paso 1*: Definir la distribución de las variables aleatorias de entrada. \n",
    "- *Paso 2*: Generar muestreo aleatorio de esas entradas. \n",
    "- *Paso 3*: Realizar el cálculo computacional con cada una de las muestras de las variables de entrada.\n",
    "- *Paso 4*: Agregar los resultados en un resultado final. "
   ]
  },
  {
   "cell_type": "markdown",
   "id": "4f85c90b",
   "metadata": {},
   "source": [
    "### Ejercicio 1\n",
    "\n",
    "Haciendo uso de las simulaciones de Montecarlo, aproximar el número $\\pi$ con cuatro cifras decimales exactas. \n",
    "\n",
    "**Nota**: Para eso se representa el arco del círculo unidad que se encuentra en el intervalo $I=[0,1] \\times [0,1]$ y se bombardea el intervalo con valores aleatorios dentro del intervalo $I$. El área del cuarto de círculo se aproxima por el número de puntos dentro del área sobre todos los puntos dentro del intervalo. O sea, \n",
    "$$A=\\frac{\\hbox{no. puntos dentro del área}}{\\hbox{no. puntos en $I$}}= \\frac{1}{4}\\pi.$$"
   ]
  },
  {
   "cell_type": "markdown",
   "id": "bd2390f5",
   "metadata": {},
   "source": [
    "### Ejercicio 2\n",
    "\n",
    "Un célebre resultado matemático relacionado con las simulaciones de Montecarlo es el **Teorema Central del Límite**. Este indica que dada una muestra de $X_i$ variables independientes e idénticamente distribuidas con media $\\mu$ y varianza $\\sigma^2$ finita, con $i=1..n$ (e.g., $n$ simulaciones de Montecarlo de una variable aleatoria con varianza finita), entonces la media de esa muestra $\\hat{\\mu}= \\frac{\\sum_{i=1}^n X_i}{n}$ se distribuye de la siguiente manera: \n",
    "\n",
    "$$\\hat{\\mu}  \\sim  N\\left(\\mu, \\frac{\\sigma}{\\sqrt{n}} \\right) \\hbox{ cuando } n \\rightarrow \\infty.$$\n",
    "\n",
    "Podemos comprobar este resultado con cualquier distribución aleatoria, tomando $m$ simulaciones de Montecarlo de la distribución, cada una de tamaño $n$. Elegir una distribución aleatoria y comprobar el Teorema Central del Límite para dos valores $n_1=100$ y $n_2=10000$, con $m=1000$."
   ]
  },
  {
   "cell_type": "markdown",
   "id": "bc487eb9",
   "metadata": {},
   "source": [
    "### Ejercicio 3\n",
    "\n",
    "Partimos del modelo *SIR* con una medida de inmunización. Entonces tenemos cuatro tipos de individuos, S (suceptibles), X (Infectados), R (Recuperados) e I (Inmunizados). En términos porcentuales, las ecuaciones del modelo serían las siguientes: \n",
    "\n",
    "$$\\begin{aligned}\n",
    "\\frac{ds}{dt} &= -\\beta s i -\\delta s \\\\\n",
    "\\frac{dx}{dt} &= \\beta s i - \\gamma i\\\\\n",
    "\\frac{dr}{dt} &= \\gamma i  \\\\\n",
    "\\frac{di}{dt} &= \\delta s,\\end{aligned}$$ \n",
    "\n",
    "donde los parámetros $\\beta$, $\\gamma$ y $\\delta$ indican la tasa de contagio, la tasa de recuperación y la tasa de inmunización, respectivamente. La tasa de recuperación se define como $\\gamma=1/T$, con $T$ el tiempo de duración de la enfermedad. \n",
    "\n",
    "**(a)** Tomamos un porcentaje de infectados inicial del 1%, y el resto son suceptibles. Asumimos incertidumbre en el valor de cada una de las tasas. La tasa de contagio sigue un normal con media 0.5 y desviación típica 0.1, o sea $\\beta \\sim N(0.5,0.1)$; el tiempo de duración de la enfermedad sigue una exponencial con media 5 días, o sea, $T \\sim exp(1/5)$; y la tasa de inmunización sigue una normal $\\delta \\sim N(0.05, 0.02)$. Representar la **distribución de probabilidad del número máximo de infectados** y calcular la **probabilidad de que el número máximo de infectados sea mayor que 0.1**. Encontrar la **tasa media de inmunización para que esta probabilidad sea inferior al 5%**.\n",
    "\n",
    "**(b)** Realizar un análisis de sensibilidad para cada uno de los parámetros. Para ello realizar simulaciones de Montecarlo del modelo y calcular el coeficiente de regresión lineal entre el número máximo de los infectados y cada uno de los parámetros. Indicar **un valor numérico de sensibilidad para cada uno de los tres parámetros del modelo**.  "
   ]
  },
  {
   "cell_type": "code",
   "execution_count": null,
   "id": "38e05fab",
   "metadata": {},
   "outputs": [],
   "source": []
  }
 ],
 "metadata": {
  "celltoolbar": "Tags",
  "kernelspec": {
   "display_name": "Python 3 (ipykernel)",
   "language": "python",
   "name": "python3"
  },
  "language_info": {
   "codemirror_mode": {
    "name": "ipython",
    "version": 3
   },
   "file_extension": ".py",
   "mimetype": "text/x-python",
   "name": "python",
   "nbconvert_exporter": "python",
   "pygments_lexer": "ipython3",
   "version": "3.10.9"
  }
 },
 "nbformat": 4,
 "nbformat_minor": 5
}

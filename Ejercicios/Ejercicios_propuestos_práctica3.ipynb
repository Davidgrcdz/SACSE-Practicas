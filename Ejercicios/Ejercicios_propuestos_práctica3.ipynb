{
 "cells": [
  {
   "cell_type": "markdown",
   "id": "pressing-munich",
   "metadata": {},
   "source": [
    "<h1 style=\"text-align: center;\">Simulación y aplicaciones en ciencias sociales y experimentales\n",
    "</h3>\n",
    "<h3 style=\"text-align: center;\"> Tema 2.3 Modelos compartimentales y en tiempo discreto </h3>\n",
    "<h3 style=\"text-align: center;\"> Ejercicios propuestos </h3>"
   ]
  },
  {
   "cell_type": "markdown",
   "id": "3ffc4b49",
   "metadata": {},
   "source": [
    "## Ejercicio 1"
   ]
  },
  {
   "cell_type": "markdown",
   "id": "persistent-carbon",
   "metadata": {},
   "source": [
    "Partimos del modelo *SIR*, asumiendo individuos homogéneos con red de contactos total. Las ecuaciones que rigen el modelo son \n",
    "\n",
    "$$\\begin{aligned}\n",
    "\\frac{ds}{dt} &= -\\beta s x  \\\\\n",
    "\\frac{dx}{dt} &= \\beta s x - \\gamma x\\\\\n",
    "\\frac{dr}{dt} &= \\gamma x,\n",
    "\\end{aligned}$$ \n",
    "\n",
    "donde $s$, $x$, $r$ son el porcentaje de susceptibles, infectados y recuperados en la población. El parámetro $\\beta$ es la tasa de contagio entre los contactos posibles y $\\gamma = 1/T$, siendo $T$ la duración de la enfermedad. "
   ]
  },
  {
   "cell_type": "markdown",
   "id": "2343f70a",
   "metadata": {},
   "source": [
    "**Apartado 1.** Extender el modelo asumiendo que $T$ indica la duración exacta de la enfermedad, contabilizando los enfermos que llevan $d$ días desde que enfermaron, con $1<d \\leq T$. Tomar como parámetros del modelo los utilizados en los ejercicios de clase. (a) Escribir las ecuaciones del modelo; (b) Comparar la evolución del número total de susceptibles, infectados y recuperados de este modelo extendido con el modelo original; (c) Representar gráficamente las diferencias entre las salidas de un modelo y otro (e.g, número total de infectados) en función de la duración de la enfermedad y otros parámetros.   "
   ]
  },
  {
   "cell_type": "markdown",
   "id": "43ec654f",
   "metadata": {},
   "source": [
    "**Apartado 2.** Incluir un proceso de inmunización a partir del modelo SIR presentado en el enunciado. Dada una población $N$ de individuos, asumir que se vacuna un número fijo $p$ de personas cada día. (a) Escribir las ecuaciones del modelo (es necesario para ello re-escribir el modelo SIR para poblaciones $S$, $X$, $R$, donde $S+X+R=N$); (b) Comparar la evolución del número total de susceptibles, infectados y recuperados de este modelo extendido con el modelo SIR original con inmunización, donde se vacunan un porcentaje determinado de la poblacion; (c) Encontrar el número mínimo de vacunados $p^*$ para los que se alcanza la inmunidad de rebaño, o sea, la enfermedad no llega a desarrollarse o lo hace muy levemente; (d) Estudiar ese nivel mínimo de vacunados en función del tamaño de la población $N$ (representar $p^*/N$ en función de $N$). "
   ]
  },
  {
   "cell_type": "markdown",
   "id": "chronic-jonathan",
   "metadata": {},
   "source": [
    "## Ejercicio 2"
   ]
  },
  {
   "cell_type": "markdown",
   "id": "covered-avenue",
   "metadata": {},
   "source": [
    "Trabajaremos en este ejercicio con extensiones del modelo de Leslie. Supongamos que tenemos una población de peces salvajes dividida en tres grupos de edad de un año cada una y cuya matriz de Leslie es la siguiente: \n",
    "$$L=\\left[ \\begin{array}{lll} 0 & 2 & 3 \\\\ 1/3 &  0 &  0\\\\ 0 & 1/2 & 0 \\end{array}\\right].$$\n",
    "Parte de la población se cosecha anualmente con fines comerciales. Supóngase que se puede seleccionar el grupo de edad que se extrae a través de la tecnología pesquera. Se nota $d_i$ la tasa de extracción anual de la población de hembras en cada año para el grupo de edad $i$, $i=1,2,3$. \n",
    "\n",
    "**Apartado 1**. (a) Escribir la ecuación en diferencias que determinaría la evolución de los individuos con esas tasas de extracción individualizadas por grupos de edad. Utilizar para ello notación matricial; (b) Estudiar la proporción de la población a largo plazo si no existiera cosecha alguna e indicar qué tipo de crecimiento describe (expansivo, estable o en extinción); (c) Estudiar la evolución y proporción de la población a largo plazo si se extrae a largo plazo el 50% de la población del grupo 1, 2 y 3, respectivamente. "
   ]
  },
  {
   "cell_type": "markdown",
   "id": "lightweight-delta",
   "metadata": {},
   "source": [
    "**Apartado 2**. Se entiende por *extracción sostenible* aquella que mantiene la población estable a largo plazo. (a) Encontrar numéricamente la extracción máxima sostenible si solo se permite extraer un porcentaje idéntico de los grupos de edad 2 y 3, esto es, $d_1=0$, $d_2=d_3$; (b) Lo mismo cuando solo se permite extraer un porcentaje de la población 3, esto es, $d_1=d_2=0$; (b) Encontrar esa tasa de extracción analíticamente. "
   ]
  },
  {
   "cell_type": "code",
   "execution_count": null,
   "id": "796c220e",
   "metadata": {},
   "outputs": [],
   "source": []
  }
 ],
 "metadata": {
  "celltoolbar": "Tags",
  "kernelspec": {
   "display_name": "Python 3 (ipykernel)",
   "language": "python",
   "name": "python3"
  },
  "language_info": {
   "codemirror_mode": {
    "name": "ipython",
    "version": 3
   },
   "file_extension": ".py",
   "mimetype": "text/x-python",
   "name": "python",
   "nbconvert_exporter": "python",
   "pygments_lexer": "ipython3",
   "version": "3.10.9"
  }
 },
 "nbformat": 4,
 "nbformat_minor": 5
}

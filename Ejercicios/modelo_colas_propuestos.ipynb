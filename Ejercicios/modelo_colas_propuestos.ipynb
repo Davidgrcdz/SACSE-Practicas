{
 "cells": [
  {
   "cell_type": "markdown",
   "id": "pressing-munich",
   "metadata": {},
   "source": [
    "<h1 style=\"text-align: center;\">Simulación y aplicaciones en ciencias sociales y experimentales\n",
    "</h3>\n",
    "<h3 style=\"text-align: center;\"> Tema 3. Modelos aleatorios </h3>\n",
    "<h3 style=\"text-align: center;\"> Modelo de Colas (ejercicios propuestos) </h3>"
   ]
  },
  {
   "cell_type": "markdown",
   "id": "d2b16d76",
   "metadata": {},
   "source": [
    "### Ejercicio \n",
    "\n",
    "Se propone un ejercicio teórico-práctico. Consiste en idear un modelo para un sistema real aleatorio markoviano, con planteamiento libre. Se valorará positivamente que el ajuste o estimación de los parámetros o variables aleatorias iniciales a partir de muestreos o toma de datos reales. El objetivo del modelo es ayudar a través de las simulaciones a la toma de decisiones óptimas de gestión/utilización del sistema\n",
    "\n",
    "Se dan dos ejemplos a modo de sugerencias, pero puede ser cualquier otro proceso markoviano similar a los estudiados. \n",
    "\n",
    "- Juego de azar sin memoria, en el que el conjunto de estados es finito (ganar, perder, empatar, etc.) y las probabilidades son fijas. A través del modelo se simularía el estado a largo plazo del jugador, así como la estrategia que optimizara un objetivo determinado.  \n",
    "\n",
    "- Un comercio que se pide en barra (ferretería, cafetería, etc), en la cual se dispone de una (o varias) personas antendiendo, con un tiempo de atención y servicio medio determinado. Cada servicio supone un ingreso económico y la llegada de clientes se produce cada cierto tiempo y se ponen en cola. Si la cola excede de un número de individuos, el cliente abandona el local. Se podría estudiar el ingreso y pérdida diaria por abandono del cliente, así como la conveniencia o no de contratar a otro empleado si su salario es $w$ por día. "
   ]
  },
  {
   "cell_type": "code",
   "execution_count": null,
   "id": "2648e321",
   "metadata": {},
   "outputs": [],
   "source": []
  },
  {
   "cell_type": "code",
   "execution_count": null,
   "id": "7356c175-6fe9-4d58-a500-a9ac6db1078b",
   "metadata": {},
   "outputs": [],
   "source": []
  }
 ],
 "metadata": {
  "celltoolbar": "Tags",
  "kernelspec": {
   "display_name": "Python 3 (ipykernel)",
   "language": "python",
   "name": "python3"
  },
  "language_info": {
   "codemirror_mode": {
    "name": "ipython",
    "version": 3
   },
   "file_extension": ".py",
   "mimetype": "text/x-python",
   "name": "python",
   "nbconvert_exporter": "python",
   "pygments_lexer": "ipython3",
   "version": "3.12.4"
  }
 },
 "nbformat": 4,
 "nbformat_minor": 5
}

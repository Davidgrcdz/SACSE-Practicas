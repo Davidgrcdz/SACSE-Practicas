{
 "cells": [
  {
   "cell_type": "markdown",
   "id": "pressing-munich",
   "metadata": {},
   "source": [
    "<h1 style=\"text-align: center;\">Simulación y aplicaciones en ciencias sociales y experimentales\n",
    "</h3>\n",
    "<h3 style=\"text-align: center;\"> Tema 2.4 Modelos en tiempo discreto </h3>\n",
    "<h3 style=\"text-align: center;\"> Ejercicios</h3>"
   ]
  },
  {
   "cell_type": "markdown",
   "id": "867c47c9",
   "metadata": {},
   "source": [
    "### Ejercicio 1"
   ]
  },
  {
   "cell_type": "markdown",
   "id": "e23e9409-7019-44cd-94f1-666bbe045309",
   "metadata": {},
   "source": [
    "Simular el proceso de incremento de un capital inicial $K_0$ sometido a un tipo de interés en los siguientes supuestos:\n",
    "\n",
    "**a)** Suponer un tipo de interés simple y anual $i_a$, esto es, el interés se aplica una vez y se acumula al capital al final de cada año. Escribir la ecuación en diferencias que modela el proceso de acumulación de capital y resolverla analísticamente y por medio de simulaciones.\n",
    "\n",
    "**b)** Suponer ahora que se aplica un tipo de interés diario $i_d$ al capital. Encontrar el tipo de interés diario con el cual se obtiene el mismo interés en un año que aplicando el tipo de interés anual anterior. Hallar la relación entre ambos tipos de interés (anual y diario) analítica y numéricamente.\n",
    "\n",
    "**c)** Suponer que se toma el tiempo de forma continua, donde cada unidad de tiempo es un año. Encontrar la relación entre el tipo de interés anual simple $i_a$ (discreto) y compuesto $i_c$ (tiempo continuo), tanto analítica como numéricamente. "
   ]
  },
  {
   "cell_type": "markdown",
   "id": "ccd6c729-037e-40da-af35-b7b56b9bc1c6",
   "metadata": {},
   "source": [
    "## Ejercicio 2"
   ]
  },
  {
   "cell_type": "markdown",
   "id": "756c0bb1-ff90-4396-99dd-3cb939327e99",
   "metadata": {},
   "source": [
    "Este ejercicio presenta un modelo económico clásico en tiempo discreto, llamado **modelo de la telaraña**. Se asume un mercado de un cierto producto (e.g., productos agrícolas, como soja, arroz, café,...), cuyos precios se fijan periodo a periodo (años) por la ley de la oferta y demanda. Las suposiciones son las siguientes: \n",
    "\n",
    "- Supóngase $D(p_t)$ el producto demandado en el año $t$, que depende del precio $p_t$ del producto en ese año. Se asume una demanda lineal, por tanto, $D(p_t) = a -bp_t$, donde $a$ y $b$ son parámetros.\n",
    "- Los productores toman decisiones de producción a partir de los precios de años anteriores. Por simplicidad, se asume que la oferta de ese producto en el año $t$ depende exclusivamente del precio del producto en el año anterior. Por tanto $S=S(p_{t-1})$.\n",
    "- Se asume un mercado en competencia perfecta, por lo que el precio del producto en cada año se obtiene como resultado de igualarse las funciones de oferta y demanda, esto es $D(p_t)=S(p_{t-1})$. Despejando $p_t$ de esta ecuación se llega a:\n",
    "  $$ p_t= \\frac{a}{b} - \\frac{S(p_{t-1})}{b}. $$\n",
    "\n",
    "**a)** Asumir una función de oferta lineal creciente y estudiar la evolución de los precios del producto a largo plazo en función de los valores de los parámetros y un precio inicial del producto $p_0$. \n",
    "\n",
    "**b)** Supóngase ahora que la oferta anual se fija a partir de un precio esperado $p_t^e$. Las expectativas de precios se fijan a partir del precio y las expectativas de precios del año anterior de la forma:\n",
    "  $$ p_t^e= (1-\\alpha) p_{t-1} + \\alpha p_{t-1}^e, $$\n",
    "con $0 \\leq \\alpha \\leq 1$ un parámetro que determina el peso de las expectivas de precios del año anterior en la expectivas de precios del año en curso. Realizar el mismo estudio del epígrafe anterior para esta nueva forma de fijación de la oferta, asumiendo el mismo precio inicial $p_0$ anterior y $p_1$ el dado por el epígrafe anterior. \n"
   ]
  },
  {
   "cell_type": "markdown",
   "id": "2120023f-cb8a-4675-b31a-fe5bfa1f8016",
   "metadata": {},
   "source": [
    "## Ejercicio 3"
   ]
  },
  {
   "cell_type": "markdown",
   "id": "a6317f5f-71bc-42fe-b31f-8faa162b12da",
   "metadata": {},
   "source": [
    "El **modelo de Leslie** representa la evolución de una población animal a partir de la población y distribución de las hembras por edades en cada instante de tiempo. Por simplicidad, presentamos el caso de tres grupos de edad. Las suposiciones del modelo son las siguientes: \n",
    "\n",
    "- Cada hembra perteneciente al grupo $i$ tiene exactamente $b_i \\geq 0$ descendientes hembras en cada periodo de tiempo, con $i=\\{1,2,3\\}$.\n",
    "- También en cada periodo de tiempo sobrevive un porcentaje $0 \\leq c_i \\leq 1$ de hembras pertenecientes el grupo $i$, que pasan al siguiente grupo, con $i=\\{1,2,3\\}$. Se toma $c_3=0$.\n",
    "- La matriz\n",
    "$$L=\\left[ \\begin{array}{lll} b_1 & b_2 & b_3 \\\\ c_1 &  0 &  0\\\\ 0 & c_2 & 0 \\end{array}\\right]$$\n",
    "representa la matriz de reproducibilidad de las hembras en la población y se denomina **matriz de Leslie**. Entonces, dada una población de hembras en el tiempo $t$ de $x_t=[x_t^1,x_t^2,x_t^3]$, la población de hembras en el periodo siguiente sigue la ecuación:\n",
    "$$x_{t+1}= Lx_t$$\n"
   ]
  },
  {
   "cell_type": "markdown",
   "id": "d52d3685-101e-4f7e-b130-ac8d93958bd2",
   "metadata": {},
   "source": [
    "**a)** Asúmase una población de insectos con la siguiente matriz de Leslie:\n",
    "$$L=\\left[ \\begin{array}{lll} 0 & 3 & 1 \\\\ 0.3 &  0 &  0\\\\ 0 & 0.5 & 0 \\end{array}\\right].$$\n",
    "Dada una población inicial de hembras de $x_0=[1000,2000,3000]$, calcular la población y distribución (porcentaje) por edades de hembras a medio plazo $t \\simeq 20$ y a largo plazo $t \\simeq 50$. ¿Tiende a extinguirse la población? Cambiar la población inicial de hembras y observar si la población tenderá a extinguirse o no para alguno de los valores y la distribución final de hembras.\n",
    "\n",
    "**b)** Repítase el mismo ejercicio anterior con la siguiente matriz de reproducibilidad de las hembras:\n",
    "$$L=\\left[ \\begin{array}{lll} 0 & 3 & 1 \\\\ 0.2 &  0 &  0\\\\ 0 & 0.5 & 0 \\end{array}\\right].$$\n",
    "De nuevo estudiar si la población tiende a extinguirse para distingos valores de población inicial de hembras.\n",
    "\n",
    "**c)** En las condiciones del apartado a) se lleva a cabo un programa de control de la población de insectos a través de una reducción simultánea de hembras a una tasa $0 \\leq d \\leq 1$ dada, homogénea para todos los grupos de edad. Encontrar la tasa $d$ con la que la población de insectos permanece estable a largo plazo.  "
   ]
  },
  {
   "cell_type": "code",
   "execution_count": null,
   "id": "82e3b669-2dac-4e80-b5e9-c5cba0e0191c",
   "metadata": {},
   "outputs": [],
   "source": []
  }
 ],
 "metadata": {
  "celltoolbar": "Tags",
  "kernelspec": {
   "display_name": "Python 3 (ipykernel)",
   "language": "python",
   "name": "python3"
  },
  "language_info": {
   "codemirror_mode": {
    "name": "ipython",
    "version": 3
   },
   "file_extension": ".py",
   "mimetype": "text/x-python",
   "name": "python",
   "nbconvert_exporter": "python",
   "pygments_lexer": "ipython3",
   "version": "3.10.9"
  }
 },
 "nbformat": 4,
 "nbformat_minor": 5
}

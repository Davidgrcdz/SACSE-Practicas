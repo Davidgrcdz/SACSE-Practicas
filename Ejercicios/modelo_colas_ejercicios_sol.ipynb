{
 "cells": [
  {
   "cell_type": "markdown",
   "id": "pressing-munich",
   "metadata": {},
   "source": [
    "<h1 style=\"text-align: center;\">Simulación y aplicaciones en ciencias sociales y experimentales\n",
    "</h3>\n",
    "<h3 style=\"text-align: center;\"> Tema 3. Modelos aleatorios </h3>\n",
    "<h3 style=\"text-align: center;\"> Modelo de Colas (ejercicios propuestos) </h3>"
   ]
  },
  {
   "cell_type": "markdown",
   "id": "d2b16d76",
   "metadata": {},
   "source": [
    "### Ejercicio 1 \n",
    "\n",
    "Un servidor con un único procesador ejecuta programas con tiempo CPU siguiendo una distribución exponencial de 3 minutos. Se sigue un protocolo de atención de los programas FIFO. Las llegadas de los programas a la estación sigue un proceso de Poisson de 15 programas cada hora de media. \n",
    "\n",
    "1) Calcular el tiempo medio que transcurre desde que se envía un programa al servidor hasta que termina su ejecución. \n",
    "2) Calcular el número medio de programas en espera de ejecutarse. \n",
    "3) Cacular la probabilidad de que haya más de dos programas en espera de ejecución. \n",
    "4) Calcular la probabilidad de que el programa esté en espera más de 10 minutos. "
   ]
  },
  {
   "cell_type": "markdown",
   "id": "c7d3ec7b-b405-463b-ae2a-0f95aa53674f",
   "metadata": {},
   "source": [
    "#### Solución Ejercicio 1\n",
    "\n",
    "En primer lugar se cargan las librerías y se definen los parámetros del modelo, que son: $\\lambda =60/3 = 20$ llegadas de programas de media a la hora y $\\mu= 15$ programas de media se ejecutan a la hora. A fin de que las simulaciones de las funciones exponenciales sean representativas, definimos un tiempo de funcionamiento de 240 horas (10 días). "
   ]
  },
  {
   "cell_type": "code",
   "execution_count": 1,
   "id": "3e24e1b1-ec72-4b07-9398-b3098955fe1d",
   "metadata": {},
   "outputs": [],
   "source": [
    "import pandas as pd\n",
    "import numpy as np\n",
    "import copy\n",
    "import matplotlib.pyplot as plt\n",
    "import scipy.stats as st\n",
    "\n",
    "# Input Parameters\n",
    "total_time_h= 240\n",
    "total_time = 60*total_time_h #en minutos\n",
    "lamb = 15 ##llegadas cada hora\n",
    "lamb_inv =60/lamb ##tiempo medio de llegada en minutos\n",
    "mu = 20 ##servicios cada hora\n",
    "mu_inv =60/mu ##tiempo medio de servicio en minutos\n",
    "rho = lamb/mu\n"
   ]
  },
  {
   "cell_type": "markdown",
   "id": "b7a3ef97-7cc4-40ad-9512-1926cab25b41",
   "metadata": {},
   "source": [
    "Posteriormente simulamos el número de programas que llegan en las 30 horas, los tiempos de llegada y los tiempos de ejecución de cada uno de esos programas, cada uno con su ley de probabilidad conveniente. Medimos el tiempo en segundos para evitar solapamientos en los tiempos de llegada."
   ]
  },
  {
   "cell_type": "code",
   "execution_count": 2,
   "id": "2288733c-e1a7-4a1c-af85-95acd2aaa5ef",
   "metadata": {},
   "outputs": [],
   "source": [
    "# Initialize Parameters\n",
    "curr_process = None\n",
    "IAT = []\n",
    "ST = []\n",
    "AT = []\n",
    "wait_time = []\n",
    "server_busy = False\n",
    "list_L=[]\n",
    "list_Lq=[]\n",
    "list_W=[]\n",
    "list_Wq=[]\n",
    "qu=[]\n",
    "    \n",
    "num_processes = sum(st.poisson.rvs(lamb,size=total_time_h))\n",
    "num_processes_served = 0\n",
    "    \n",
    "# Populate Inter-Arrival-Times (IAT)\n",
    "for i in range(num_processes):\n",
    "    temp = st.expon.rvs(loc=0,scale=lamb_inv)\n",
    "    if i==0:\n",
    "        IAT.append(0)\n",
    "    else:\n",
    "        IAT.append(int(temp)+1)\n",
    "\n",
    "# Populate Service-Times (ST) \n",
    "for i in range(num_processes):\n",
    "    temp = st.expon.rvs(loc=0,scale=mu_inv)\n",
    "    ST.append(int(temp)+1)\n",
    "\n",
    "# Save a copy of ST\n",
    "ST_copy = copy.deepcopy(ST)\n",
    "    \n",
    "# Get Arrival-Times (AT) from IAT starting at t=0\n",
    "for i in range(num_processes):\n",
    "    if i == 0:\n",
    "        AT.append(0)    \n",
    "    else:\n",
    "        AT.append(AT[i-1] + IAT[i])\n",
    "    wait_time.append(0)\n"
   ]
  },
  {
   "cell_type": "markdown",
   "id": "6db9a8f4-7454-41f8-8186-3f458dfdfe73",
   "metadata": {},
   "source": [
    "Seguidamente registramos los movimientos de la cola en cada unidad de tiempo, contabilizando la distribución del número de programas en cola y servicio, *list_L*, en cola, *list_Lq*, tiempo de espera en cola y servicio, *list_W*, y en cola, *list_Wq*."
   ]
  },
  {
   "cell_type": "code",
   "execution_count": 3,
   "id": "ad6de88b-bdc3-4292-91b6-4f99d811d167",
   "metadata": {},
   "outputs": [],
   "source": [
    "# Simulation of M/M/1 Queue (i represents current time)\n",
    "for i in range(AT[-1]+ST[-1]):\n",
    "    for j in range(num_processes):\n",
    "        if i== AT[j]:\n",
    "            qu.append(j)\n",
    "\n",
    "    if not server_busy and bool(qu):\n",
    "        curr_process = qu[0]\n",
    "        server_busy = True\n",
    "\n",
    "    if not server_busy and not bool(qu):\n",
    "        list_Lq.append(len(qu))\n",
    "        list_L.append(len(qu))\n",
    "\n",
    "    if server_busy:\n",
    "        for item in qu:\n",
    "            wait_time[item] = wait_time[item] + 1\n",
    "        list_Lq.append(len(qu)-1)\n",
    "        list_L.append(len(qu))\n",
    "        ST[curr_process] = ST[curr_process] - 1\n",
    "        if ST[curr_process] == 0:\n",
    "            list_W.append(wait_time[curr_process])\n",
    "            server_busy = False\n",
    "            num_processes_served = num_processes_served + 1\n",
    "            qu.remove(curr_process)\n",
    "        \n",
    "list_Wq=np.subtract(list_W,ST_copy[0:len(list_W)])\n"
   ]
  },
  {
   "cell_type": "markdown",
   "id": "015b0903-8642-4703-872c-3d2ee8c4152d",
   "metadata": {},
   "source": [
    "Finalmente, con las distribuciones de las variables principales, podemos contestar a las cuestiones que nos plantean en el ejercicio: "
   ]
  },
  {
   "cell_type": "code",
   "execution_count": 4,
   "id": "5b070d2d-f26a-40e7-8978-a490dab5f936",
   "metadata": {},
   "outputs": [
    {
     "name": "stdout",
     "output_type": "stream",
     "text": [
      "L exacta:  3.0\n",
      "L simulada:  2.509872313920897\n",
      "Lq exacta:  2.25\n",
      "Lq simulada:  1.7454998442852694\n",
      "W exacta:  0.2\n",
      "W simulada:  0.1903344671201814\n",
      "Wq exacta:  0.15\n",
      "Wq simulada:  0.13236016628873773\n",
      "La probabilidad de que la cola sea mayor que 2 es:  0.26041731547804414\n",
      "La probabilidad de que el tiempo en cola sea mayor que 10 minutos es:  0.29109977324263026\n"
     ]
    }
   ],
   "source": [
    "print('L exacta: ',lamb/(mu-lamb))\n",
    "print('L simulada: ', np.mean(list_L))\n",
    "print('Lq exacta: ',lamb**2/(mu*(mu-lamb)))\n",
    "print('Lq simulada: ', np.mean(list_Lq))\n",
    "\n",
    "print('W exacta: ',1/(mu-lamb))\n",
    "print('W simulada: ', np.mean(list_W)/60)\n",
    "print('Wq exacta: ',lamb/(mu*(mu-lamb)))\n",
    "print('Wq simulada: ', np.mean(list_Wq)/60)\n",
    "\n",
    "#prob lq>2\n",
    "freq, bins = np.histogram(list_Lq,100)\n",
    "\n",
    "x = (bins[:-1] + bins[1:]) / 2\n",
    "prob_dist_Lq= freq/(len(list_Lq))\n",
    "\n",
    "prob_dist_acum = np.cumsum(prob_dist_Lq)\n",
    "\n",
    "df=pd.DataFrame({'x': x, 'F(x)': prob_dist_acum})\n",
    "\n",
    "pLq2=1-df[df['x']>2]['F(x)'].min()\n",
    "\n",
    "print('La probabilidad de que la cola sea mayor que 2 es: ',pLq2)\n",
    "\n",
    "#prob Wq>10\n",
    "freq, bins = np.histogram(list_Wq,100)\n",
    "\n",
    "x = (bins[:-1] + bins[1:]) / 2\n",
    "prob_dist_Wq= freq/(len(list_Wq))\n",
    "\n",
    "prob_dist_acum = np.cumsum(prob_dist_Wq)\n",
    "\n",
    "df=pd.DataFrame({'x': x, 'F(x)': prob_dist_acum})\n",
    "\n",
    "pWq10=1-df[df['x']>10]['F(x)'].min()\n",
    "\n",
    "print('La probabilidad de que el tiempo en cola sea mayor que 10 minutos es: ',pWq10)    \n"
   ]
  },
  {
   "cell_type": "markdown",
   "id": "a403844b-9a77-4693-a45f-1ee08df28bf7",
   "metadata": {},
   "source": [
    "Como se puede observar, hay discrepancias entre los valores exactos de la longitud de cola y tiempo de espera con respecto a los simulados. Estas discrepancias se mantienen al simular con horizontes temporales mayores, aunque los valores se mantienen en un entorno de los valores reales. Simulaciones de Montecarlo de este proceso pueden determinar la distribución de estas discrepancias, que tenderán a los valores reales de las medias, según el Teorema Central del Límite. Procedemos a hacer estas simulaciones.  "
   ]
  },
  {
   "cell_type": "code",
   "execution_count": 5,
   "id": "42e5e0f2-0a43-4297-b566-0ef9f12e2d2f",
   "metadata": {},
   "outputs": [
    {
     "name": "stdout",
     "output_type": "stream",
     "text": [
      "L exacta:  3.0\n",
      "L simulada:  2.7137253779041353\n",
      "Lq exacta:  2.25\n",
      "Lq simulada:  1.9367866527946607\n",
      "W exacta:  0.2\n",
      "W simulada:  0.20488180790399937\n",
      "Wq exacta:  0.15\n",
      "Wq simulada:  0.146174141672155\n"
     ]
    },
    {
     "data": {
      "image/png": "[encoded data removed]",
      "text/plain": [
       "<Figure size 640x480 with 4 Axes>"
      ]
     },
     "metadata": {},
     "output_type": "display_data"
    }
   ],
   "source": [
    "L_mean=[]\n",
    "Lq_mean=[]\n",
    "W_mean=[]\n",
    "Wq_mean=[]\n",
    "sim=100\n",
    "for k in range(0,sim):\n",
    "    # Initialize Parameters\n",
    "    curr_process = None\n",
    "    IAT = []\n",
    "    ST = []\n",
    "    AT = []\n",
    "    wait_time = []\n",
    "    server_busy = False\n",
    "    list_L=[]\n",
    "    list_Lq=[]\n",
    "    list_W=[]\n",
    "    list_Wq=[]\n",
    "    qu=[]\n",
    "        \n",
    "    num_processes = sum(st.poisson.rvs(lamb,size=total_time_h))\n",
    "    num_processes_served = 0\n",
    "        \n",
    "    # Populate Inter-Arrival-Times (IAT)\n",
    "    for i in range(num_processes):\n",
    "        temp = st.expon.rvs(loc=0,scale=lamb_inv)\n",
    "        if i==0:\n",
    "            IAT.append(0)\n",
    "        else:\n",
    "            IAT.append(int(temp)+1)\n",
    "    \n",
    "    # Populate Service-Times (ST) (where ST[i]!=0)\n",
    "    for i in range(num_processes):\n",
    "        temp = st.expon.rvs(loc=0,scale=mu_inv)\n",
    "        ST.append(int(temp)+1)\n",
    "    \n",
    "    # Save a copy of ST\n",
    "    ST_copy = copy.deepcopy(ST)\n",
    "        \n",
    "    # Get Arrival-Times (AT) from IAT starting at t=0\n",
    "    for i in range(num_processes):\n",
    "        if i == 0:\n",
    "            AT.append(0)    \n",
    "        else:\n",
    "            AT.append(AT[i-1] + IAT[i])\n",
    "        wait_time.append(0)\n",
    "        \n",
    "    # Simulation of M/M/1 Queue (i represents current time)\n",
    "        \n",
    "    #for i in range(total_time*conv_t):\n",
    "    for i in range(AT[-1]+ST[-1]):\n",
    "        for j in range(num_processes):\n",
    "            if i== AT[j]:\n",
    "                qu.append(j)\n",
    "    \n",
    "        if not server_busy and bool(qu):\n",
    "            curr_process = qu[0]\n",
    "            server_busy = True\n",
    "    \n",
    "        if not server_busy and not bool(qu):\n",
    "            list_Lq.append(len(qu))\n",
    "            list_L.append(len(qu))\n",
    "    \n",
    "        if server_busy:\n",
    "            for item in qu:\n",
    "                wait_time[item] = wait_time[item] + 1\n",
    "            list_Lq.append(len(qu)-1)\n",
    "            list_L.append(len(qu))\n",
    "            ST[curr_process] = ST[curr_process] - 1\n",
    "            if ST[curr_process] == 0:\n",
    "                list_W.append(wait_time[curr_process])\n",
    "                #list_Wq.append(wait_time[curr_process])\n",
    "                server_busy = False\n",
    "                num_processes_served = num_processes_served + 1\n",
    "                qu.remove(curr_process)\n",
    "        \n",
    "    list_Wq=np.subtract(list_W,ST_copy[0:len(list_W)])\n",
    "    L_mean.append(np.mean(list_L))\n",
    "    Lq_mean.append(np.mean(list_Lq))\n",
    "    W_mean.append(np.mean(list_W))\n",
    "    Wq_mean.append(np.mean(list_Wq))\n",
    "\n",
    "fig, axs = plt.subplots(2, 2)\n",
    "axs[0,0].hist(L_mean)\n",
    "axs[0,0].set_title(\"mean of L\")\n",
    "axs[0,1].hist(Lq_mean)\n",
    "axs[0,1].set_title(\"mean of Lq\")\n",
    "axs[1,0].hist(W_mean)\n",
    "axs[1,0].set_title(\"mean of W\")\n",
    "axs[1,1].hist(Wq_mean)\n",
    "axs[1,1].set_title(\"mean of Wq\")\n",
    "\n",
    "from statistics import mean\n",
    "print('L exacta: ',lamb/(mu-lamb))\n",
    "print('L simulada: ', mean(L_mean))\n",
    "print('Lq exacta: ',lamb**2/(mu*(mu-lamb)))\n",
    "print('Lq simulada: ', mean(Lq_mean))\n",
    "\n",
    "print('W exacta: ',1/(mu-lamb))\n",
    "print('W simulada: ', mean(W_mean)/60)\n",
    "print('Wq exacta: ',lamb/(mu*(mu-lamb)))\n",
    "print('Wq simulada: ', mean(Wq_mean)/60)\n",
    "\n"
   ]
  },
  {
   "cell_type": "markdown",
   "id": "9c8253e0-b66c-46ba-8849-065c90366849",
   "metadata": {},
   "source": [
    "Como se puede observar, la media de la longitud media de la cola se empieza a asemejar a una distribuión normal. Los resultados simulados de los distintos indicadores de la cola son más proximos a los resultados exactos. Por tanto, la media de las probabilidades que nos pide el ejercicio serán también más aproximadas a las reales.  "
   ]
  },
  {
   "cell_type": "markdown",
   "id": "0d5225d5-f871-4657-b120-5e797dd7b1cf",
   "metadata": {},
   "source": [
    "### Ejercicio 2 (diseño de experimentos)\n",
    "\n",
    "Otra forma de medir la sensibilidad de un modelo aleatorio a variaciones de los parámetros es por medio del **diseño de experimentos**. Estos consisten en asumir escenarios o **niveles** de los parámetros o **factores** del modelo y observar el efecto combinado de estos cambios sobre una variable objetivo, también denominada **respuesta**. \n",
    "\n",
    "Así, en el ejercicio 1, asúmanse dos niveles de llegada media de programas al servidor, estos son 13 y 17 programas por hora. Asúmanse también dos niveles de tiempo medio de servicio, 18 y 22 por hora. Como respuesta elegimos la probabilidad de que el tiempo de cola sea mayor que 10 minutos. O sea, buscamos encontrar el efecto de cambios de los factores en la probabilidad de que el tiempo de cola sea mayor que 10 minutos. "
   ]
  },
  {
   "cell_type": "markdown",
   "id": "003858ff",
   "metadata": {},
   "source": [
    "#### Solución Ejercicio 2\n",
    "\n",
    "Dado que tenemos tan solo dos factores, elegimos el **diseño factorial $2^k$**, siendo $k$ el número de factores. Consiste en realizar las simulaciones indicadas en la siguiente tabla: \n",
    "\n",
    "| Combinación | Factor 1 ($\\lambda$) | Factor 2 ($\\mu$) | Respuesta |\n",
    "| --- | --- | --- |--- |\n",
    "| 1 | - | - | $R_1$ |\n",
    "| 2 | + | - | $R_2$ |\n",
    "| 3 | - | + | $R_3$ |\n",
    "| 4 | + | + | $R_4$ |\n",
    "\n",
    "Entonces, el efecto medio del factor $j$ ($j=1,2$), es el cambio medio de la respuesta al pasar del signo $-$ al signo $+$, esto es: \n",
    "\n",
    "$$e_1 = {(R_2-R_1)+(R_4-R_3) \\over 2},$$\n",
    "\n",
    "$$e_2 = {(R_3-R_1)+(R_4-R_2) \\over 2}.$$\n",
    "\n",
    "Y el efecto de interacción $1 \\times 2$, esto es, el efecto de un factor cuando se producen cambios en el otro factor, se calcula como: \n",
    "\n",
    "$$e_{12} = {1 \\over 2} \\left({(R_4-R_3) \\over 1} - {(R_2-R_1) \\over 1}\\right),$$\n"
   ]
  },
  {
   "cell_type": "markdown",
   "id": "322c1bfd",
   "metadata": {},
   "source": []
  },
  {
   "cell_type": "markdown",
   "id": "fb14088d",
   "metadata": {},
   "source": [
    "## Referencias\n",
    "\n",
    "- Cao Abad, R. (2002). Introducción a la simulación y a la teoría de colas. A Coruña: Netbiblo.\n",
    "- Law, A.M. (2007). Simulation Modeling and Analysis. New York: McGraw Hill\n"
   ]
  },
  {
   "cell_type": "code",
   "execution_count": null,
   "id": "2648e321",
   "metadata": {},
   "outputs": [],
   "source": []
  }
 ],
 "metadata": {
  "celltoolbar": "Tags",
  "kernelspec": {
   "display_name": "Python 3 (ipykernel)",
   "language": "python",
   "name": "python3"
  },
  "language_info": {
   "codemirror_mode": {
    "name": "ipython",
    "version": 3
   },
   "file_extension": ".py",
   "mimetype": "text/x-python",
   "name": "python",
   "nbconvert_exporter": "python",
   "pygments_lexer": "ipython3",
   "version": "3.10.9"
  }
 },
 "nbformat": 4,
 "nbformat_minor": 5
}

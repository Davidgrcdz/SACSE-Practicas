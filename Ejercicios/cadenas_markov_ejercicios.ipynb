{
 "cells": [
  {
   "cell_type": "markdown",
   "id": "pressing-munich",
   "metadata": {},
   "source": [
    "<h1 style=\"text-align: center;\">Simulación y aplicaciones en ciencias sociales y experimentales\n",
    "</h3>\n",
    "<h3 style=\"text-align: center;\"> Tema 3. Modelos aleatorios </h3>\n",
    "<h3 style=\"text-align: center;\"> Cadenas de Markov. Ejercicios </h3>"
   ]
  },
  {
   "cell_type": "markdown",
   "id": "92896e99-8526-4714-b172-e14f2463aeaa",
   "metadata": {},
   "source": [
    "### Ejercicio 1"
   ]
  },
  {
   "cell_type": "markdown",
   "id": "32ec6d30",
   "metadata": {},
   "source": [
    "Este es un ejercicio de paseo aleatorio (Random Walk). Supóngase que situamos a un hamster en una caja rectangular con cuatro compartimentos concatenados e idénticos, separados por una pequeña barrera que el hamster puede saltar (ver figura). El hamster se mueve libremente a lo largo de los cuatro compartimentos. En cada instante del tiempo permanece quieto o se mueve a alguno de los compartimentos adyacentes. Si el hamster parte del compartimento 2, estudiar la probabilidad de estar en un compartimento determinado a largo plazo en estos tres casos: \n",
    "\n",
    "**a)** La probabilidad de que permanezca en un compartimento o que se mueva a alguno de los adyacentes es la misma. Si puede moverse a izquierda o derecha, la probabilidad de que vaya a un lado u otro es la misma. \n",
    "\n",
    "**b)** El hamster no permanece en ningún caso en un compartimento, sino que se mueve a alguno de los adyacentes con la misma probabilidad. \n",
    "\n",
    "**c)** Si el hamster se encuentra en alguno de los dos compartimentos extremos de la caja, no se mueve de ahí. Si está en uno de los compartimentos internos de la caja, se mueve a los compartimentos de izquierda o derecha con idéntica probabilidad.  "
   ]
  },
  {
   "cell_type": "markdown",
   "id": "ca3c6030-6599-4db1-924e-2afb074684f6",
   "metadata": {},
   "source": [
    "<img src=\"random_walk.jpg\" \n",
    "     align=\"center\" \n",
    "     width=\"200\" />"
   ]
  },
  {
   "cell_type": "markdown",
   "id": "0be1fd90-e202-44d4-a0e2-62df71490fd5",
   "metadata": {},
   "source": [
    "### Ejercicio 2"
   ]
  },
  {
   "cell_type": "markdown",
   "id": "3c662e66",
   "metadata": {},
   "source": [
    "Este es el problema de la ruina del jugador de apuestas (gambler's ruin problem). Supóngase la apuesta siguiente: Por cada cantidad apostada, se tiene probabilidad 0.4 de ganar el doble y 0.6 de perder la mitad de esa cantidad. Si dispone de solo un euro y pierde, pierde todo el dinero. Si consigue ganar una cantidad $N$ de euros, la banca se declara en bancarrota y el juego termina. Por tanto, la banca permite una apuesta de 1 euro y múltiplos de 2 hasta $N/2$ euros. \n",
    "\n",
    "**a)** Supóngase $N=32$ y se comienza a jugar con 4 euros. El jugador no parará de apostar hasta arruinarse o producir la bancarrota. Encontrar la probabilidad de que el jugador se arruine y de que se produzca la bancarrota. ¿Depende esa probabilidad de la cantidad inicial con la que juegue?\n",
    "\n",
    "**b)** Calcular las probabilidades de ruina y bancarrota para valores más altos de $N$. Estimar esas probabilidades para el caso de que la banca no ponga límite máximo de dinero ganado. "
   ]
  },
  {
   "cell_type": "markdown",
   "id": "fb14088d",
   "metadata": {},
   "source": [
    "## Referencias\n",
    "\n",
    "- Spong, M.W. (2023). Introduction to Modeling and Simulation. A Systems Approach. Wiley.\n",
    "- Stewart, W. J. (2009). Probability, Markov Chains, Queues, and Simulation. Princenton University Press. \n",
    "\n"
   ]
  },
  {
   "cell_type": "code",
   "execution_count": null,
   "id": "2648e321",
   "metadata": {},
   "outputs": [],
   "source": []
  }
 ],
 "metadata": {
  "celltoolbar": "Tags",
  "kernelspec": {
   "display_name": "Python 3 (ipykernel)",
   "language": "python",
   "name": "python3"
  },
  "language_info": {
   "codemirror_mode": {
    "name": "ipython",
    "version": 3
   },
   "file_extension": ".py",
   "mimetype": "text/x-python",
   "name": "python",
   "nbconvert_exporter": "python",
   "pygments_lexer": "ipython3",
   "version": "3.12.4"
  }
 },
 "nbformat": 4,
 "nbformat_minor": 5
}
